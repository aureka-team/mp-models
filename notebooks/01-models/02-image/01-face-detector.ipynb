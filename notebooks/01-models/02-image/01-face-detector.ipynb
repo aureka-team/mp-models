{
 "cells": [
  {
   "cell_type": "code",
   "execution_count": 1,
   "metadata": {},
   "outputs": [],
   "source": [
    "import cv2\n",
    "\n",
    "from rich.pretty import pprint\n",
    "\n",
    "from mp_models.models import FaceDetector\n",
    "from mp_models.meta import FaceDetectorInput\n",
    "from mp_models.utils.image import cv2pil, draw_bboxes"
   ]
  },
  {
   "cell_type": "code",
   "execution_count": null,
   "metadata": {},
   "outputs": [],
   "source": [
    "face_detector = FaceDetector()"
   ]
  },
  {
   "cell_type": "code",
   "execution_count": null,
   "metadata": {},
   "outputs": [],
   "source": [
    "np_image = cv2.imread(\"/resources/images/face.png\")\n",
    "print(np_image.shape)\n",
    "\n",
    "pil_image = cv2pil(cv_image=np_image)\n",
    "pil_image"
   ]
  },
  {
   "cell_type": "code",
   "execution_count": null,
   "metadata": {},
   "outputs": [],
   "source": [
    "face_detections = face_detector.detect(\n",
    "    detector_input=FaceDetectorInput(np_image=np_image)\n",
    ")\n",
    "\n",
    "pprint(face_detections)\n"
   ]
  },
  {
   "cell_type": "code",
   "execution_count": null,
   "metadata": {},
   "outputs": [],
   "source": [
    "bboxes = [det.bbox for det in face_detections]\n",
    "draw_bboxes(pil_image=pil_image, bboxes=bboxes)\n",
    "\n",
    "pil_image"
   ]
  }
 ],
 "metadata": {
  "kernelspec": {
   "display_name": "Python 3",
   "language": "python",
   "name": "python3"
  },
  "language_info": {
   "codemirror_mode": {
    "name": "ipython",
    "version": 3
   },
   "file_extension": ".py",
   "mimetype": "text/x-python",
   "name": "python",
   "nbconvert_exporter": "python",
   "pygments_lexer": "ipython3",
   "version": "3.12.3"
  }
 },
 "nbformat": 4,
 "nbformat_minor": 2
}
